{
 "cells": [
  {
   "cell_type": "code",
   "execution_count": null,
   "id": "4f12086c-4876-4ff9-a742-383b8bf6ac52",
   "metadata": {},
   "outputs": [],
   "source": [
    "import numpy as np\n",
    "import matplotlib.pyplot as plt"
   ]
  },
  {
   "cell_type": "code",
   "execution_count": null,
   "id": "895caf39-978b-4718-9156-8c0cd3e5531f",
   "metadata": {},
   "outputs": [],
   "source": [
    "def f(x):\n",
    "\n",
    "    return 3*np.cos(x) + 4*np.sin(2*x)**2 + 0.4*x + 0.05*x**2 + 15"
   ]
  },
  {
   "cell_type": "code",
   "execution_count": null,
   "id": "d1a57447-617a-43bd-abb7-714a9dc3c9c2",
   "metadata": {},
   "outputs": [],
   "source": [
    "x = np.linspace(-10, 10, 30) + np.random.normal(loc=0.0, scale=1.0)\n",
    "xN = np.linspace(np.min(x), np.max(x), 200)"
   ]
  },
  {
   "cell_type": "code",
   "execution_count": null,
   "id": "1c96cb0e-5ed6-486f-81ac-c4e5028549d3",
   "metadata": {},
   "outputs": [],
   "source": [
    "x1, x2 = np.polyfit(x, f(x), deg=1)"
   ]
  },
  {
   "cell_type": "code",
   "execution_count": null,
   "id": "7e9f0e22-935e-4862-a4fa-ed97d4a5b069",
   "metadata": {},
   "outputs": [],
   "source": [
    "nr, nc = 3, 1\n",
    "fig, axes = plt.subplots(nr, nc, figsize=(nc*10, nr*3), dpi=120,\n",
    "                         facecolor='black')\n",
    "axes = axes.flat\n",
    "\n",
    "for ax in axes:\n",
    "    ax.grid(True, ls='--', lw=1, alpha=0.6)\n",
    "    ax.scatter(x, f(x),\n",
    "               color='black', marker='X', s=64)\n",
    "    ax.tick_params(axis='both', which='major',\n",
    "                   colors='white', labelsize=16)\n",
    "\n",
    "axes[1].plot(x, x*x1 + x2, label='Illesztett egyenes',\n",
    "             color='tab:orange', lw=3, ls='--')\n",
    "axes[1].legend(loc='upper left', fontsize=16)\n",
    "\n",
    "axes[2].plot(xN, f(xN), label='Illesztett függvény',\n",
    "             color='tab:red', lw=3, ls='--')\n",
    "axes[2].legend(loc='upper left', fontsize=16)\n",
    "\n",
    "plt.show()"
   ]
  },
  {
   "cell_type": "code",
   "execution_count": null,
   "id": "36ef1ec2-1349-4507-a255-a4e653f014a6",
   "metadata": {},
   "outputs": [],
   "source": []
  }
 ],
 "metadata": {
  "kernelspec": {
   "display_name": "Python 3 (ipykernel)",
   "language": "python",
   "name": "python3"
  },
  "language_info": {
   "codemirror_mode": {
    "name": "ipython",
    "version": 3
   },
   "file_extension": ".py",
   "mimetype": "text/x-python",
   "name": "python",
   "nbconvert_exporter": "python",
   "pygments_lexer": "ipython3",
   "version": "3.11.3"
  }
 },
 "nbformat": 4,
 "nbformat_minor": 5
}
