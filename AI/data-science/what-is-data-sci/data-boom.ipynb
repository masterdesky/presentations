{
 "cells": [
  {
   "cell_type": "code",
   "execution_count": null,
   "id": "1967533e-bb94-4cfb-bf5c-47ff91afb4b6",
   "metadata": {
    "tags": []
   },
   "outputs": [],
   "source": [
    "import numpy as np\n",
    "\n",
    "import matplotlib.pyplot as plt\n",
    "import matplotlib.dates as mdates\n",
    "from matplotlib.dates import DateFormatter\n",
    "date_format = DateFormatter(\"%Y\")\n",
    "\n",
    "from datetime import datetime"
   ]
  },
  {
   "cell_type": "code",
   "execution_count": null,
   "id": "9faf7db2-a984-49a1-aeeb-778c3ee8b2f2",
   "metadata": {
    "tags": []
   },
   "outputs": [],
   "source": [
    "xmin, xmax = 2010, 2025\n",
    "x = np.linspace(xmin, xmax, xmax-xmin+1, dtype=int)\n",
    "x = np.array([datetime.strptime(f'{i}', '%Y') for i in x])\n",
    "\n",
    "def zexp(X, a=1, b=1, c=0, d=0):\n",
    "    return a * np.exp(X * b + c) + d\n",
    "\n",
    "xi = np.linspace(0, xmax-xmin, xmax-xmin+1)\n",
    "y = zexp(xi, a=8, b=2.5/12, c=0, d=0)"
   ]
  },
  {
   "cell_type": "code",
   "execution_count": null,
   "id": "c7f891e2-94ec-4741-956b-affbfa1a896a",
   "metadata": {
    "tags": []
   },
   "outputs": [],
   "source": [
    "fig, ax = plt.subplots(figsize=(22, 5))\n",
    "ax.grid(True, ls='--', alpha=0.6)\n",
    "\n",
    "color = 'tab:red'\n",
    "alpha = 0.6\n",
    "lw = 4\n",
    "skip = 3\n",
    "\n",
    "x1, x2 = x[:-skip+1], x[-skip:]\n",
    "y1, y2 = y[:-skip+1], y[-skip:]\n",
    "ax.plot(x1, y1,\n",
    "        color=color, lw=lw, alpha=alpha)\n",
    "ax.fill_between(x=x1, y1=0, y2=y1,\n",
    "                color=color, alpha=alpha)\n",
    "# skip\n",
    "ax.plot(x2, y2,\n",
    "        color=color, lw=lw, ls='--', alpha=alpha*5/8)\n",
    "ax.fill_between(x=x2, y1=0, y2=y2,\n",
    "                color=color, alpha=alpha*5/8)\n",
    "\n",
    "ax.set_ylabel('Global datasphere (ZB)',\n",
    "              fontsize=24)\n",
    "\n",
    "ax.tick_params(axis='both', which='major',\n",
    "               labelsize=20)\n",
    "\n",
    "ax.set_xticks(x)\n",
    "ax.set_xticklabels(x, rotation=42, ha='center')\n",
    "ax.xaxis.set_major_formatter(date_format)\n",
    "ax.set_xlim(x[0], x[-1])\n",
    "\n",
    "plt.savefig('presentation/src/img/data-boom.png',\n",
    "            bbox_inches='tight')\n",
    "plt.show()"
   ]
  },
  {
   "cell_type": "code",
   "execution_count": null,
   "id": "e0553525-0209-4432-8e0e-13e07ff84413",
   "metadata": {},
   "outputs": [],
   "source": []
  }
 ],
 "metadata": {
  "kernelspec": {
   "display_name": "Python 3 (ipykernel)",
   "language": "python",
   "name": "python3"
  },
  "language_info": {
   "codemirror_mode": {
    "name": "ipython",
    "version": 3
   },
   "file_extension": ".py",
   "mimetype": "text/x-python",
   "name": "python",
   "nbconvert_exporter": "python",
   "pygments_lexer": "ipython3",
   "version": "3.11.3"
  }
 },
 "nbformat": 4,
 "nbformat_minor": 5
}
